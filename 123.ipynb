{
 "cells": [
  {
   "cell_type": "code",
   "execution_count": 2,
   "metadata": {},
   "outputs": [
    {
     "name": "stderr",
     "output_type": "stream",
     "text": [
      "[nltk_data] Downloading package punkt to\n",
      "[nltk_data]     C:\\Users\\amand\\AppData\\Roaming\\nltk_data...\n",
      "[nltk_data]   Package punkt is already up-to-date!\n",
      "[nltk_data] Downloading package punkt_tab to\n",
      "[nltk_data]     C:\\Users\\amand\\AppData\\Roaming\\nltk_data...\n",
      "[nltk_data]   Package punkt_tab is already up-to-date!\n"
     ]
    },
    {
     "data": {
      "text/plain": [
       "True"
      ]
     },
     "execution_count": 2,
     "metadata": {},
     "output_type": "execute_result"
    }
   ],
   "source": [
    "import nltk\n",
    "from nltk.corpus import stopwords\n",
    "from nltk.stem import SnowballStemmer\n",
    "from nltk.tokenize import word_tokenize, sent_tokenize\n",
    "nltk.download('punkt')\n",
    "nltk.download('punkt_tab')"
   ]
  },
  {
   "cell_type": "code",
   "execution_count": 3,
   "metadata": {},
   "outputs": [],
   "source": [
    "with open('123.0.txt', 'r') as file:\n",
    "    content = file.read()\n",
    "\n",
    "with open('positive-words.txt', 'r') as f:\n",
    "    positive_words = set(f.read().splitlines())\n",
    "\n",
    "with open('negative-words.txt', 'r') as f:\n",
    "    negative_words = set(f.read().splitlines())"
   ]
  },
  {
   "cell_type": "code",
   "execution_count": 4,
   "metadata": {},
   "outputs": [],
   "source": [
    "combined_stopwords = set(stopwords.words('english')) | positive_words | negative_words"
   ]
  },
  {
   "cell_type": "code",
   "execution_count": 5,
   "metadata": {},
   "outputs": [],
   "source": [
    "sentences = sent_tokenize(content)"
   ]
  },
  {
   "cell_type": "code",
   "execution_count": 6,
   "metadata": {},
   "outputs": [],
   "source": [
    "stemmer = SnowballStemmer('english')"
   ]
  },
  {
   "cell_type": "code",
   "execution_count": 7,
   "metadata": {},
   "outputs": [
    {
     "data": {
      "text/plain": [
       "['rise telemedicin impact livelihood 2040 telemedicin , use technolog diagnos treat patient remot , rise recent year .',\n",
       " 'advent high-spe internet video conferenc tool , healthcar provid increas turn telemedicin provid care patient remot underserv area .',\n",
       " 'telemedicin , use technolog provid healthcar servic remot , recent popular .',\n",
       " 'advanc communic medic technolog , becom increas possibl doctor patient connect interact anywher world .',\n",
       " 'rise telemedicin , potenti way healthcar delivered. # telemedicin increas focus prevent healthcar also driven rise telemedicin .',\n",
       " 'peopl becom awar import stay , look way prevent maintain health .',\n",
       " 'telemedicin allow peopl monitor health get advic healthcar provid without travel clinic hospit .',\n",
       " 'access healthcar : one biggest challeng healthcar industri distribut medic resourc , mani remot rural area access qualiti care .',\n",
       " 'telemedicin help bridg gap allow patient underserv area connect healthcar provid worldwid .',\n",
       " 'give peopl access special medic care would otherwis abl receiv , health overal well-being. # healthcar greater : telemedicin also offer level tradit in-person medic visit .',\n",
       " 'patient consult healthcar provid home , save time money travel .',\n",
       " 'particular individu mobil live area access medic facil .',\n",
       " 'reduc healthcar cost : enabl patient receiv care remot , telemedicin help reduc overal cost healthcar .',\n",
       " 'telemedicin visit general less in-person visit help prevent need intervent , hospit .',\n",
       " 'result , telemedicin potenti make healthcar patient healthcar provid alike. # cost healthcar outcom : telemedicin also patientsâ€™ qualiti care .',\n",
       " 'allow healthcar provid access medic record inform remot , telemedicin help ensur patient receiv care need .',\n",
       " 'health outcom higher qualiti life patients. # job opportun healthcar industri healthcar sector , includ healthcar provid , staff , technolog expert .',\n",
       " 'provid local economi help reduc unemployment. # job care condit : telemedicin help patient condit manag health , allow receiv regular check-up treatment without need travel long distanc .',\n",
       " 'qualiti life individu reduc complic condit .',\n",
       " 'increas patient healthcar provid : telemedicin allow patient provid schedul consult time , overal healthcar system .',\n",
       " 'help reduc wait time satisfact .',\n",
       " 'increas access : telemedicin make healthcar peopl live rural remot area , may access medic facil .',\n",
       " 'telemedicin , patient consult doctor specialist home use phone , comput , devic .',\n",
       " 'mean peopl abl get medic care need , regardless live .',\n",
       " 'reduc cost : one telemedicin reduc healthcar cost .',\n",
       " 'patient avoid cost travel , accommod , time associ in-person visit doctor .',\n",
       " 'telemedicin also help reduc cost medic procedur , doctor remot monitor patient provid care without need hospit .',\n",
       " 'health outcom : provid patient access medic care home , telemedicin help health outcom .',\n",
       " 'exampl , patient condit use telemedicin manag reduc complic .',\n",
       " 'telemedicin also help prevent spread infecti diseas , patient receiv care without contact peopl .',\n",
       " 'increas : telemedicin offer option patient need medic care .',\n",
       " 'telemedicin , patient schedul appoint consult doctor time without take time arrang transport .',\n",
       " 'especi peopl busi schedul mobil .',\n",
       " 'telemedicin , use electron communic inform technolog provid healthcar servic remot , potenti signific impact way receiv deliv medic care .',\n",
       " 'next 20 year , telemedicin like becom increas part healthcar system , provid numer livelihood mani peopl .',\n",
       " 'telemedicin numer .',\n",
       " 'patient , provid access medic care without travel long distanc .',\n",
       " 'also allow diagnosi treatment care .',\n",
       " 'healthcar provid , telemedicin reduc already-overburden healthcar system make provid care patient remot area .',\n",
       " 'rise telemedicin like signific impact receiv medic care futur .',\n",
       " '2040 , estim telemedicin standard part healthcar landscap , doctor use diagnos treat patient remot .',\n",
       " 'one key driver rise telemedicin increas avail high-spe internet video conferenc tool .',\n",
       " 'past , video audio qualiti telemedicin consult often , make doctor diagnos treat patient .',\n",
       " 'howev , internet speed video conferenc tool , telemedicin consult in-person visit .',\n",
       " 'telemedicin make healthcar .',\n",
       " 'telemedicin , patient longer travel long distanc see doctor specialist .',\n",
       " 'instead , receiv care home .',\n",
       " 'particular peopl live rural area , access healthcar .',\n",
       " 'anoth factor contribut rise telemedicin increas demand healthcar servic .',\n",
       " 'global popul grow peopl live longer , need medic care continu increas .',\n",
       " 'telemedicin offer way healthcar provid meet demand allow provid care patient shorter amount time .',\n",
       " 'anoth substanti impact telemedicin qualiti care .',\n",
       " 'use technolog connect patient doctor , telemedicin help ensur patient receiv care possibl .',\n",
       " 'exampl , doctor use video conferenc consult specialist use remot monitor devic track patientâ€™ vital sign .',\n",
       " 'help doctor make inform decis provid treatment .',\n",
       " 'telemedicin also potenti reduc healthcar cost .',\n",
       " 'allow patient receiv care home , telemedicin reduc need hospit visit .',\n",
       " 'addit , telemedicin help prevent spread infecti diseas , reduc healthcar cost avoid hospit .',\n",
       " 'one impact telemedicin experi .',\n",
       " 'provid patient abil receiv care home , telemedicin help reduc .',\n",
       " 'addit , telemedicin make patient communic doctor get answer need .',\n",
       " 'anoth way telemedicin impact peopleâ€™ livelihood make healthcar .',\n",
       " 'allow doctor diagnos treat patient remot , telemedicin help reduc time patient spend wait see doctor .',\n",
       " 'also help reduc doctorsâ€™ spend administr task , free see patient provid care .',\n",
       " 'one major factor drive rise telemedicin increas use technolog healthcar .',\n",
       " 'advanc communic medic technolog , possibl doctor healthcar provid remot diagnos treat patient use video conferenc , remot monitor , form telemedicin .',\n",
       " 'allow healthcar deliveri also enabl healthcar provid offer special care patient otherwis may access .',\n",
       " 'anoth factor contribut rise telemedicin need access healthcar .',\n",
       " 'patient may travel long distanc mani rural underserv area ; patient may travel long distanc access medic care .',\n",
       " 'telemedicin bridg gap allow patient area consult healthcar provid remot .',\n",
       " 'access healthcar also reduc need patient travel long distanc , save time money .',\n",
       " 'final , telemedicineâ€™ rise also driven grow trend remot .',\n",
       " 'peopl home remot locat , need healthcar increas .',\n",
       " 'telemedicin allow employe consult healthcar provid home , reduc need take time visit doctor healthcar provid .',\n",
       " 'overal , rise telemedicin 2040 result combin factor , includ increas use technolog healthcar , need access healthcar , grow trend remot .',\n",
       " 'factor continu evolv , like , telemedicin like becom increas part healthcar landscap .',\n",
       " 'howev , rise telemedicin also like present challeng .',\n",
       " 'exampl , telemedicin consult may medic condit , patient may still need see doctor .',\n",
       " 'addit , telemedicin may put job , receptionist administr staff healthcar facil .',\n",
       " 'blackcoff insight 46 : g.k.harish balaji , indian institut technolog , madra']"
      ]
     },
     "execution_count": 7,
     "metadata": {},
     "output_type": "execute_result"
    }
   ],
   "source": [
    "processed_sentences = []\n",
    "for sentence in sentences:\n",
    "    words = word_tokenize(sentence)\n",
    "    filtered_words = [stemmer.stem(word) for word in words if word.lower() not in combined_stopwords]\n",
    "    processed_sentences.append(' '.join(filtered_words))\n",
    "\n",
    "processed_sentences"
   ]
  },
  {
   "cell_type": "code",
   "execution_count": 9,
   "metadata": {},
   "outputs": [
    {
     "name": "stdout",
     "output_type": "stream",
     "text": [
      "Positive Score: 2.2871031746031747\n",
      "Negative Score: 0.5964015151515152\n",
      "Average Sentence Length: 13.4375\n",
      "Percent of Complex Words: 16.186046511627907\n",
      "Fog Index: 11.849418604651163\n",
      "Complex Word Count: 174\n",
      "Total Word Count: 1075\n",
      "Personal Pronoun Count: 0\n"
     ]
    }
   ],
   "source": [
    "from textblob import TextBlob\n",
    "import syllapy\n",
    "\n",
    "personal_pronouns = {'i', 'me', 'my', 'we', 'our', 'ours', 'us', 'you', 'your', 'yours', 'he', 'him', 'his', 'she', 'her', 'hers', 'they', 'them', 'their', 'theirs'}\n",
    "total_words = complex_word_count = personal_pronoun_count = positive_score = negative_score = 0\n",
    "\n",
    "for sentence in processed_sentences:\n",
    "    words = word_tokenize(sentence)\n",
    "    total_words += len(words)\n",
    "    complex_word_count += sum(1 for word in words if syllapy.count(word) >= 3)\n",
    "    personal_pronoun_count += sum(1 for word in words if word.lower() in personal_pronouns)\n",
    "    \n",
    "    sentiment = TextBlob(sentence).sentiment.polarity\n",
    "    positive_score += max(sentiment, 0)\n",
    "    negative_score += abs(min(sentiment, 0))\n",
    "\n",
    "avg_sentence_length = total_words / len(processed_sentences)\n",
    "percent_complex_words = (complex_word_count / total_words) * 100\n",
    "fog_index = 0.4 * (avg_sentence_length + percent_complex_words)\n",
    "\n",
    "print(\"Positive Score:\", positive_score)\n",
    "print(\"Negative Score:\", negative_score)\n",
    "print(\"Average Sentence Length:\", avg_sentence_length)\n",
    "print(\"Percent of Complex Words:\", percent_complex_words)\n",
    "print(\"Fog Index:\", fog_index)\n",
    "print(\"Complex Word Count:\", complex_word_count)\n",
    "print(\"Total Word Count:\", total_words)\n",
    "print(\"Personal Pronoun Count:\", personal_pronoun_count)\n"
   ]
  }
 ],
 "metadata": {
  "kernelspec": {
   "display_name": "Python 3",
   "language": "python",
   "name": "python3"
  },
  "language_info": {
   "codemirror_mode": {
    "name": "ipython",
    "version": 3
   },
   "file_extension": ".py",
   "mimetype": "text/x-python",
   "name": "python",
   "nbconvert_exporter": "python",
   "pygments_lexer": "ipython3",
   "version": "3.13.1"
  }
 },
 "nbformat": 4,
 "nbformat_minor": 2
}
